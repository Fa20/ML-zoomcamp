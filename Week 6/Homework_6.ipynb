{
 "cells": [
  {
   "cell_type": "markdown",
   "metadata": {},
   "source": [
    "### Homework6"
   ]
  },
  {
   "cell_type": "code",
   "execution_count": 138,
   "metadata": {},
   "outputs": [],
   "source": [
    "import re\n",
    "import numpy as np\n",
    "import pandas as pd\n",
    "import seaborn as sns\n",
    "import xgboost as xgb\n",
    "import matplotlib.pyplot as plt\n",
    "from tqdm.auto import tqdm\n",
    "from sklearn.tree import DecisionTreeRegressor\n",
    "from sklearn.tree import export_text\n",
    "from sklearn.feature_extraction import DictVectorizer\n",
    "from sklearn.model_selection import train_test_split\n",
    "from sklearn.ensemble import RandomForestRegressor\n",
    "from sklearn.metrics import mean_squared_error\n",
    "\n",
    "%matplotlib inline"
   ]
  },
  {
   "cell_type": "code",
   "execution_count": 139,
   "metadata": {},
   "outputs": [],
   "source": [
    "df_url='https://raw.githubusercontent.com/alexeygrigorev/datasets/master/housing.csv'\n",
    "df=pd.read_csv(df_url)\n"
   ]
  },
  {
   "cell_type": "code",
   "execution_count": 140,
   "metadata": {},
   "outputs": [
    {
     "data": {
      "text/html": [
       "<div>\n",
       "<style scoped>\n",
       "    .dataframe tbody tr th:only-of-type {\n",
       "        vertical-align: middle;\n",
       "    }\n",
       "\n",
       "    .dataframe tbody tr th {\n",
       "        vertical-align: top;\n",
       "    }\n",
       "\n",
       "    .dataframe thead th {\n",
       "        text-align: right;\n",
       "    }\n",
       "</style>\n",
       "<table border=\"1\" class=\"dataframe\">\n",
       "  <thead>\n",
       "    <tr style=\"text-align: right;\">\n",
       "      <th></th>\n",
       "      <th>longitude</th>\n",
       "      <th>latitude</th>\n",
       "      <th>housing_median_age</th>\n",
       "      <th>total_rooms</th>\n",
       "      <th>total_bedrooms</th>\n",
       "      <th>population</th>\n",
       "      <th>households</th>\n",
       "      <th>median_income</th>\n",
       "      <th>median_house_value</th>\n",
       "      <th>ocean_proximity</th>\n",
       "    </tr>\n",
       "  </thead>\n",
       "  <tbody>\n",
       "    <tr>\n",
       "      <th>0</th>\n",
       "      <td>-122.23</td>\n",
       "      <td>37.88</td>\n",
       "      <td>41.0</td>\n",
       "      <td>880.0</td>\n",
       "      <td>129.0</td>\n",
       "      <td>322.0</td>\n",
       "      <td>126.0</td>\n",
       "      <td>8.3252</td>\n",
       "      <td>452600.0</td>\n",
       "      <td>NEAR BAY</td>\n",
       "    </tr>\n",
       "    <tr>\n",
       "      <th>1</th>\n",
       "      <td>-122.22</td>\n",
       "      <td>37.86</td>\n",
       "      <td>21.0</td>\n",
       "      <td>7099.0</td>\n",
       "      <td>1106.0</td>\n",
       "      <td>2401.0</td>\n",
       "      <td>1138.0</td>\n",
       "      <td>8.3014</td>\n",
       "      <td>358500.0</td>\n",
       "      <td>NEAR BAY</td>\n",
       "    </tr>\n",
       "    <tr>\n",
       "      <th>2</th>\n",
       "      <td>-122.24</td>\n",
       "      <td>37.85</td>\n",
       "      <td>52.0</td>\n",
       "      <td>1467.0</td>\n",
       "      <td>190.0</td>\n",
       "      <td>496.0</td>\n",
       "      <td>177.0</td>\n",
       "      <td>7.2574</td>\n",
       "      <td>352100.0</td>\n",
       "      <td>NEAR BAY</td>\n",
       "    </tr>\n",
       "    <tr>\n",
       "      <th>3</th>\n",
       "      <td>-122.25</td>\n",
       "      <td>37.85</td>\n",
       "      <td>52.0</td>\n",
       "      <td>1274.0</td>\n",
       "      <td>235.0</td>\n",
       "      <td>558.0</td>\n",
       "      <td>219.0</td>\n",
       "      <td>5.6431</td>\n",
       "      <td>341300.0</td>\n",
       "      <td>NEAR BAY</td>\n",
       "    </tr>\n",
       "    <tr>\n",
       "      <th>4</th>\n",
       "      <td>-122.25</td>\n",
       "      <td>37.85</td>\n",
       "      <td>52.0</td>\n",
       "      <td>1627.0</td>\n",
       "      <td>280.0</td>\n",
       "      <td>565.0</td>\n",
       "      <td>259.0</td>\n",
       "      <td>3.8462</td>\n",
       "      <td>342200.0</td>\n",
       "      <td>NEAR BAY</td>\n",
       "    </tr>\n",
       "  </tbody>\n",
       "</table>\n",
       "</div>"
      ],
      "text/plain": [
       "   longitude  latitude  housing_median_age  total_rooms  total_bedrooms  \\\n",
       "0    -122.23     37.88                41.0        880.0           129.0   \n",
       "1    -122.22     37.86                21.0       7099.0          1106.0   \n",
       "2    -122.24     37.85                52.0       1467.0           190.0   \n",
       "3    -122.25     37.85                52.0       1274.0           235.0   \n",
       "4    -122.25     37.85                52.0       1627.0           280.0   \n",
       "\n",
       "   population  households  median_income  median_house_value ocean_proximity  \n",
       "0       322.0       126.0         8.3252            452600.0        NEAR BAY  \n",
       "1      2401.0      1138.0         8.3014            358500.0        NEAR BAY  \n",
       "2       496.0       177.0         7.2574            352100.0        NEAR BAY  \n",
       "3       558.0       219.0         5.6431            341300.0        NEAR BAY  \n",
       "4       565.0       259.0         3.8462            342200.0        NEAR BAY  "
      ]
     },
     "execution_count": 140,
     "metadata": {},
     "output_type": "execute_result"
    }
   ],
   "source": [
    "df.head()"
   ]
  },
  {
   "cell_type": "code",
   "execution_count": 141,
   "metadata": {},
   "outputs": [
    {
     "data": {
      "text/plain": [
       "Index(['longitude', 'latitude', 'housing_median_age', 'total_rooms',\n",
       "       'total_bedrooms', 'population', 'households', 'median_income',\n",
       "       'median_house_value', 'ocean_proximity'],\n",
       "      dtype='object')"
      ]
     },
     "execution_count": 141,
     "metadata": {},
     "output_type": "execute_result"
    }
   ],
   "source": [
    "df.columns"
   ]
  },
  {
   "cell_type": "code",
   "execution_count": null,
   "metadata": {},
   "outputs": [],
   "source": []
  },
  {
   "cell_type": "markdown",
   "metadata": {},
   "source": [
    "**Fill NAs with 0**\n",
    "\n"
   ]
  },
  {
   "cell_type": "code",
   "execution_count": 142,
   "metadata": {},
   "outputs": [
    {
     "name": "stdout",
     "output_type": "stream",
     "text": [
      "<class 'pandas.core.frame.DataFrame'>\n",
      "RangeIndex: 20640 entries, 0 to 20639\n",
      "Data columns (total 10 columns):\n",
      " #   Column              Non-Null Count  Dtype  \n",
      "---  ------              --------------  -----  \n",
      " 0   longitude           20640 non-null  float64\n",
      " 1   latitude            20640 non-null  float64\n",
      " 2   housing_median_age  20640 non-null  float64\n",
      " 3   total_rooms         20640 non-null  float64\n",
      " 4   total_bedrooms      20433 non-null  float64\n",
      " 5   population          20640 non-null  float64\n",
      " 6   households          20640 non-null  float64\n",
      " 7   median_income       20640 non-null  float64\n",
      " 8   median_house_value  20640 non-null  float64\n",
      " 9   ocean_proximity     20640 non-null  object \n",
      "dtypes: float64(9), object(1)\n",
      "memory usage: 1.6+ MB\n"
     ]
    }
   ],
   "source": [
    "df.info()"
   ]
  },
  {
   "cell_type": "code",
   "execution_count": 143,
   "metadata": {},
   "outputs": [
    {
     "data": {
      "text/plain": [
       "longitude               0\n",
       "latitude                0\n",
       "housing_median_age      0\n",
       "total_rooms             0\n",
       "total_bedrooms        207\n",
       "population              0\n",
       "households              0\n",
       "median_income           0\n",
       "median_house_value      0\n",
       "ocean_proximity         0\n",
       "dtype: int64"
      ]
     },
     "execution_count": 143,
     "metadata": {},
     "output_type": "execute_result"
    }
   ],
   "source": [
    "df.isnull().sum()"
   ]
  },
  {
   "cell_type": "code",
   "execution_count": 144,
   "metadata": {},
   "outputs": [],
   "source": [
    "df=df.fillna(0)"
   ]
  },
  {
   "cell_type": "code",
   "execution_count": 145,
   "metadata": {},
   "outputs": [
    {
     "data": {
      "text/plain": [
       "longitude             0\n",
       "latitude              0\n",
       "housing_median_age    0\n",
       "total_rooms           0\n",
       "total_bedrooms        0\n",
       "population            0\n",
       "households            0\n",
       "median_income         0\n",
       "median_house_value    0\n",
       "ocean_proximity       0\n",
       "dtype: int64"
      ]
     },
     "execution_count": 145,
     "metadata": {},
     "output_type": "execute_result"
    }
   ],
   "source": [
    "df.isnull().sum()"
   ]
  },
  {
   "cell_type": "code",
   "execution_count": null,
   "metadata": {},
   "outputs": [],
   "source": []
  },
  {
   "cell_type": "code",
   "execution_count": null,
   "metadata": {},
   "outputs": [],
   "source": []
  },
  {
   "cell_type": "markdown",
   "metadata": {},
   "source": [
    "**Apply the log tranform to median_house_value**\n",
    "\n"
   ]
  },
  {
   "cell_type": "code",
   "execution_count": 146,
   "metadata": {},
   "outputs": [
    {
     "data": {
      "image/png": "[encoded data removed]",
      "text/plain": [
       "<Figure size 432x288 with 1 Axes>"
      ]
     },
     "metadata": {
      "needs_background": "light"
     },
     "output_type": "display_data"
    }
   ],
   "source": [
    "sns.histplot(df['median_house_value']);"
   ]
  },
  {
   "cell_type": "code",
   "execution_count": 147,
   "metadata": {},
   "outputs": [
    {
     "data": {
      "image/png": "[encoded data removed]",
      "text/plain": [
       "<Figure size 432x288 with 1 Axes>"
      ]
     },
     "metadata": {
      "needs_background": "light"
     },
     "output_type": "display_data"
    }
   ],
   "source": [
    "df['median_house_value']=np.log1p(df['median_house_value'])\n",
    "sns.histplot(df['median_house_value']);"
   ]
  },
  {
   "cell_type": "markdown",
   "metadata": {},
   "source": [
    "**Do train/validation/test split with 60%/20%/20% distribution**\n",
    "\n",
    "**Use the train_test_split function and set the random_state parameter to 1**\n",
    "\n",
    "**Use DictVectorizer to turn the dataframe into matrices**\n",
    "\n",
    "\n",
    "\n"
   ]
  },
  {
   "cell_type": "code",
   "execution_count": 148,
   "metadata": {},
   "outputs": [],
   "source": [
    "df_train_full,df_test=train_test_split(df,test_size=0.20,random_state=1)\n",
    "df_train,df_val=train_test_split(df_train_full,test_size=0.25,random_state=1)"
   ]
  },
  {
   "cell_type": "code",
   "execution_count": null,
   "metadata": {},
   "outputs": [],
   "source": []
  },
  {
   "cell_type": "code",
   "execution_count": null,
   "metadata": {},
   "outputs": [],
   "source": []
  },
  {
   "cell_type": "markdown",
   "metadata": {},
   "source": [
    "**Question 1**\n",
    "Let's train a decision tree regressor to predict the median_house_value variable.\n",
    "\n",
    "Train a model with max_depth=1.\n",
    "Which feature is used for splitting the data?\n",
    "\n",
    "ocean_proximity=INLAND\n",
    "total_rooms\n",
    "latitude\n",
    "population\n"
   ]
  },
  {
   "cell_type": "code",
   "execution_count": 149,
   "metadata": {},
   "outputs": [],
   "source": [
    "y_train = (df_train.median_house_value).values\n",
    "y_val = (df_val.median_house_value).values\n",
    "y_test = (df_test.median_house_value).values"
   ]
  },
  {
   "cell_type": "code",
   "execution_count": 150,
   "metadata": {},
   "outputs": [],
   "source": [
    "del df_train['median_house_value']\n",
    "del df_val['median_house_value']\n",
    "del df_test['median_house_value']"
   ]
  },
  {
   "cell_type": "code",
   "execution_count": 151,
   "metadata": {},
   "outputs": [
    {
     "data": {
      "text/html": [
       "<div>\n",
       "<style scoped>\n",
       "    .dataframe tbody tr th:only-of-type {\n",
       "        vertical-align: middle;\n",
       "    }\n",
       "\n",
       "    .dataframe tbody tr th {\n",
       "        vertical-align: top;\n",
       "    }\n",
       "\n",
       "    .dataframe thead th {\n",
       "        text-align: right;\n",
       "    }\n",
       "</style>\n",
       "<table border=\"1\" class=\"dataframe\">\n",
       "  <thead>\n",
       "    <tr style=\"text-align: right;\">\n",
       "      <th></th>\n",
       "      <th>longitude</th>\n",
       "      <th>latitude</th>\n",
       "      <th>housing_median_age</th>\n",
       "      <th>total_rooms</th>\n",
       "      <th>total_bedrooms</th>\n",
       "      <th>population</th>\n",
       "      <th>households</th>\n",
       "      <th>median_income</th>\n",
       "      <th>ocean_proximity</th>\n",
       "    </tr>\n",
       "  </thead>\n",
       "  <tbody>\n",
       "    <tr>\n",
       "      <th>9107</th>\n",
       "      <td>-118.18</td>\n",
       "      <td>34.63</td>\n",
       "      <td>19.0</td>\n",
       "      <td>3562.0</td>\n",
       "      <td>606.0</td>\n",
       "      <td>1677.0</td>\n",
       "      <td>578.0</td>\n",
       "      <td>4.1573</td>\n",
       "      <td>INLAND</td>\n",
       "    </tr>\n",
       "    <tr>\n",
       "      <th>13999</th>\n",
       "      <td>-116.90</td>\n",
       "      <td>34.69</td>\n",
       "      <td>10.0</td>\n",
       "      <td>337.0</td>\n",
       "      <td>102.0</td>\n",
       "      <td>108.0</td>\n",
       "      <td>50.0</td>\n",
       "      <td>0.4999</td>\n",
       "      <td>INLAND</td>\n",
       "    </tr>\n",
       "    <tr>\n",
       "      <th>5610</th>\n",
       "      <td>-118.26</td>\n",
       "      <td>33.78</td>\n",
       "      <td>27.0</td>\n",
       "      <td>1672.0</td>\n",
       "      <td>491.0</td>\n",
       "      <td>1723.0</td>\n",
       "      <td>462.0</td>\n",
       "      <td>2.0458</td>\n",
       "      <td>NEAR OCEAN</td>\n",
       "    </tr>\n",
       "    <tr>\n",
       "      <th>13533</th>\n",
       "      <td>-117.33</td>\n",
       "      <td>34.17</td>\n",
       "      <td>5.0</td>\n",
       "      <td>4718.0</td>\n",
       "      <td>1140.0</td>\n",
       "      <td>2564.0</td>\n",
       "      <td>1056.0</td>\n",
       "      <td>2.9877</td>\n",
       "      <td>INLAND</td>\n",
       "    </tr>\n",
       "    <tr>\n",
       "      <th>2953</th>\n",
       "      <td>-119.02</td>\n",
       "      <td>35.35</td>\n",
       "      <td>42.0</td>\n",
       "      <td>1239.0</td>\n",
       "      <td>251.0</td>\n",
       "      <td>776.0</td>\n",
       "      <td>272.0</td>\n",
       "      <td>1.9830</td>\n",
       "      <td>INLAND</td>\n",
       "    </tr>\n",
       "    <tr>\n",
       "      <th>...</th>\n",
       "      <td>...</td>\n",
       "      <td>...</td>\n",
       "      <td>...</td>\n",
       "      <td>...</td>\n",
       "      <td>...</td>\n",
       "      <td>...</td>\n",
       "      <td>...</td>\n",
       "      <td>...</td>\n",
       "      <td>...</td>\n",
       "    </tr>\n",
       "    <tr>\n",
       "      <th>4482</th>\n",
       "      <td>-118.19</td>\n",
       "      <td>34.06</td>\n",
       "      <td>32.0</td>\n",
       "      <td>555.0</td>\n",
       "      <td>159.0</td>\n",
       "      <td>748.0</td>\n",
       "      <td>163.0</td>\n",
       "      <td>1.9762</td>\n",
       "      <td>&lt;1H OCEAN</td>\n",
       "    </tr>\n",
       "    <tr>\n",
       "      <th>1835</th>\n",
       "      <td>-122.30</td>\n",
       "      <td>37.90</td>\n",
       "      <td>37.0</td>\n",
       "      <td>2125.0</td>\n",
       "      <td>489.0</td>\n",
       "      <td>912.0</td>\n",
       "      <td>462.0</td>\n",
       "      <td>2.9219</td>\n",
       "      <td>NEAR BAY</td>\n",
       "    </tr>\n",
       "    <tr>\n",
       "      <th>8539</th>\n",
       "      <td>-118.36</td>\n",
       "      <td>33.90</td>\n",
       "      <td>18.0</td>\n",
       "      <td>3380.0</td>\n",
       "      <td>922.0</td>\n",
       "      <td>2276.0</td>\n",
       "      <td>854.0</td>\n",
       "      <td>4.0727</td>\n",
       "      <td>&lt;1H OCEAN</td>\n",
       "    </tr>\n",
       "    <tr>\n",
       "      <th>2155</th>\n",
       "      <td>-119.79</td>\n",
       "      <td>36.78</td>\n",
       "      <td>41.0</td>\n",
       "      <td>2227.0</td>\n",
       "      <td>462.0</td>\n",
       "      <td>1129.0</td>\n",
       "      <td>415.0</td>\n",
       "      <td>2.3190</td>\n",
       "      <td>INLAND</td>\n",
       "    </tr>\n",
       "    <tr>\n",
       "      <th>13351</th>\n",
       "      <td>-117.62</td>\n",
       "      <td>34.02</td>\n",
       "      <td>9.0</td>\n",
       "      <td>4265.0</td>\n",
       "      <td>587.0</td>\n",
       "      <td>2280.0</td>\n",
       "      <td>589.0</td>\n",
       "      <td>5.5632</td>\n",
       "      <td>INLAND</td>\n",
       "    </tr>\n",
       "  </tbody>\n",
       "</table>\n",
       "<p>12384 rows × 9 columns</p>\n",
       "</div>"
      ],
      "text/plain": [
       "       longitude  latitude  housing_median_age  total_rooms  total_bedrooms  \\\n",
       "9107     -118.18     34.63                19.0       3562.0           606.0   \n",
       "13999    -116.90     34.69                10.0        337.0           102.0   \n",
       "5610     -118.26     33.78                27.0       1672.0           491.0   \n",
       "13533    -117.33     34.17                 5.0       4718.0          1140.0   \n",
       "2953     -119.02     35.35                42.0       1239.0           251.0   \n",
       "...          ...       ...                 ...          ...             ...   \n",
       "4482     -118.19     34.06                32.0        555.0           159.0   \n",
       "1835     -122.30     37.90                37.0       2125.0           489.0   \n",
       "8539     -118.36     33.90                18.0       3380.0           922.0   \n",
       "2155     -119.79     36.78                41.0       2227.0           462.0   \n",
       "13351    -117.62     34.02                 9.0       4265.0           587.0   \n",
       "\n",
       "       population  households  median_income ocean_proximity  \n",
       "9107       1677.0       578.0         4.1573          INLAND  \n",
       "13999       108.0        50.0         0.4999          INLAND  \n",
       "5610       1723.0       462.0         2.0458      NEAR OCEAN  \n",
       "13533      2564.0      1056.0         2.9877          INLAND  \n",
       "2953        776.0       272.0         1.9830          INLAND  \n",
       "...           ...         ...            ...             ...  \n",
       "4482        748.0       163.0         1.9762       <1H OCEAN  \n",
       "1835        912.0       462.0         2.9219        NEAR BAY  \n",
       "8539       2276.0       854.0         4.0727       <1H OCEAN  \n",
       "2155       1129.0       415.0         2.3190          INLAND  \n",
       "13351      2280.0       589.0         5.5632          INLAND  \n",
       "\n",
       "[12384 rows x 9 columns]"
      ]
     },
     "execution_count": 151,
     "metadata": {},
     "output_type": "execute_result"
    }
   ],
   "source": [
    "df_train"
   ]
  },
  {
   "cell_type": "code",
   "execution_count": null,
   "metadata": {},
   "outputs": [],
   "source": []
  },
  {
   "cell_type": "code",
   "execution_count": 152,
   "metadata": {},
   "outputs": [],
   "source": [
    "train_dicts = df_train.to_dict(orient='records')\n",
    "dv = DictVectorizer(sparse=False)\n",
    "X_train = dv.fit_transform(train_dicts)"
   ]
  },
  {
   "cell_type": "code",
   "execution_count": 153,
   "metadata": {},
   "outputs": [
    {
     "data": {
      "text/plain": [
       "array([  50.    ,   10.    ,   34.69  , -116.9   ,    0.4999,    0.    ,\n",
       "          1.    ,    0.    ,    0.    ,    0.    ,  108.    ,  102.    ,\n",
       "        337.    ])"
      ]
     },
     "execution_count": 153,
     "metadata": {},
     "output_type": "execute_result"
    }
   ],
   "source": [
    "X_train[1]"
   ]
  },
  {
   "cell_type": "code",
   "execution_count": 154,
   "metadata": {},
   "outputs": [],
   "source": [
    "#\n"
   ]
  },
  {
   "cell_type": "code",
   "execution_count": 155,
   "metadata": {},
   "outputs": [
    {
     "data": {
      "text/plain": [
       "DecisionTreeRegressor(max_depth=1)"
      ]
     },
     "execution_count": 155,
     "metadata": {},
     "output_type": "execute_result"
    }
   ],
   "source": [
    "dt = DecisionTreeRegressor(max_depth=1)\n",
    "dt.fit(X_train, y_train)"
   ]
  },
  {
   "cell_type": "code",
   "execution_count": null,
   "metadata": {},
   "outputs": [],
   "source": [
    "\n"
   ]
  },
  {
   "cell_type": "code",
   "execution_count": 156,
   "metadata": {},
   "outputs": [
    {
     "name": "stdout",
     "output_type": "stream",
     "text": [
      "|--- ocean_proximity=INLAND <= 0.50\n",
      "|   |--- value: [12.31]\n",
      "|--- ocean_proximity=INLAND >  0.50\n",
      "|   |--- value: [11.61]\n",
      "\n"
     ]
    }
   ],
   "source": [
    "print(export_text(dt, feature_names=dv.get_feature_names()))"
   ]
  },
  {
   "cell_type": "markdown",
   "metadata": {},
   "source": [
    "**Which feature is used for splitting the data?**\n",
    "\n",
    "Answer: ocean_proximity=INLAND"
   ]
  },
  {
   "cell_type": "markdown",
   "metadata": {},
   "source": [
    "**Question 2**\n",
    "Train a random forest model with these parameters:\n",
    "\n",
    "n_estimators=10\n",
    "\n",
    "random_state=1 \n",
    "\n",
    "n_jobs=-1 (optional - to make training faster)\n",
    "\n",
    "What's the RMSE of this model on validation?\n",
    "\n",
    "\n",
    "0.05\n",
    "0.25\n",
    "0.55\n",
    "0.85"
   ]
  },
  {
   "cell_type": "code",
   "execution_count": null,
   "metadata": {},
   "outputs": [],
   "source": []
  },
  {
   "cell_type": "code",
   "execution_count": 157,
   "metadata": {},
   "outputs": [
    {
     "data": {
      "text/plain": [
       "RandomForestRegressor(n_estimators=10, random_state=1)"
      ]
     },
     "execution_count": 157,
     "metadata": {},
     "output_type": "execute_result"
    }
   ],
   "source": [
    "rf = RandomForestRegressor(n_estimators=10, random_state=1)\n",
    "rf.fit(X_train, y_train)\n"
   ]
  },
  {
   "cell_type": "code",
   "execution_count": 158,
   "metadata": {},
   "outputs": [],
   "source": [
    "val_dicts = df_val.to_dict(orient='records')\n",
    "X_val = dv.transform(val_dicts)"
   ]
  },
  {
   "cell_type": "code",
   "execution_count": 159,
   "metadata": {},
   "outputs": [],
   "source": [
    "y_pred = rf.predict(X_val)\n",
    "\n",
    "    "
   ]
  },
  {
   "cell_type": "code",
   "execution_count": 160,
   "metadata": {},
   "outputs": [
    {
     "name": "stdout",
     "output_type": "stream",
     "text": [
      "RMSE: 0.25\n"
     ]
    }
   ],
   "source": [
    "from sklearn import metrics\n",
    "print('RMSE:', np.sqrt(metrics.mean_squared_error(y_val, y_pred)).round(2))"
   ]
  },
  {
   "cell_type": "markdown",
   "metadata": {},
   "source": [
    "**Question 3**\n",
    "\n",
    "Now, let's experiment with the n_estimators parameter.\n",
    "\n",
    "Try different values of this parameter from 10 to 200 with step 10.\n",
    "\n",
    "Set random_state to 1.\n",
    "\n",
    "Evaluate the model on the validation dataset."
   ]
  },
  {
   "cell_type": "code",
   "execution_count": 161,
   "metadata": {},
   "outputs": [],
   "source": [
    "score=[]\n",
    "for i in range(10,201,10):\n",
    "    rf = RandomForestRegressor(n_estimators=i, random_state=1)\n",
    "    rf.fit(X_train, y_train)\n",
    "    y_pred = rf.predict(X_val)\n",
    "    score.append(np.sqrt(metrics.mean_squared_error(y_val, y_pred)).round(2))"
   ]
  },
  {
   "cell_type": "code",
   "execution_count": 162,
   "metadata": {},
   "outputs": [
    {
     "data": {
      "text/plain": [
       "[0.25,\n",
       " 0.24,\n",
       " 0.24,\n",
       " 0.23,\n",
       " 0.23,\n",
       " 0.23,\n",
       " 0.23,\n",
       " 0.23,\n",
       " 0.23,\n",
       " 0.23,\n",
       " 0.23,\n",
       " 0.23,\n",
       " 0.23,\n",
       " 0.23,\n",
       " 0.23,\n",
       " 0.23,\n",
       " 0.23,\n",
       " 0.23,\n",
       " 0.23,\n",
       " 0.23]"
      ]
     },
     "execution_count": 162,
     "metadata": {},
     "output_type": "execute_result"
    }
   ],
   "source": [
    "score"
   ]
  },
  {
   "cell_type": "markdown",
   "metadata": {},
   "source": [
    "**After which value of n_estimators does RMSE stop improving?**\n",
    "\n",
    "Answer: 10"
   ]
  },
  {
   "cell_type": "markdown",
   "metadata": {},
   "source": [
    "**Question 4**\n",
    "\n",
    "Let's select the best max_depth:\n",
    "\n",
    "Try different values of max_depth: [10, 15, 20, 25].\n",
    "    \n",
    "For each of these values, try different values of n_estimators from 10 till 200 (with step 10).\n",
    "\n",
    "Fix the random seed: random_state=1."
   ]
  },
  {
   "cell_type": "code",
   "execution_count": 163,
   "metadata": {},
   "outputs": [],
   "source": [
    "score=[]\n",
    "for i in range(10,30,5):\n",
    "    rf = RandomForestRegressor(n_estimators=10,max_depth=i, random_state=1)\n",
    "    rf.fit(X_train, y_train)\n",
    "    y_pred = rf.predict(X_val)\n",
    "    score.append(np.sqrt(metrics.mean_squared_error(y_val, y_pred)).round(2))"
   ]
  },
  {
   "cell_type": "code",
   "execution_count": 164,
   "metadata": {},
   "outputs": [
    {
     "data": {
      "text/plain": [
       "[0.26, 0.24, 0.25, 0.25]"
      ]
     },
     "execution_count": 164,
     "metadata": {},
     "output_type": "execute_result"
    }
   ],
   "source": [
    "score"
   ]
  },
  {
   "cell_type": "code",
   "execution_count": 165,
   "metadata": {},
   "outputs": [],
   "source": [
    "scores = []\n",
    "\n",
    "for d in [10, 15, 20,25]:\n",
    "    for n in range(10, 201, 10):\n",
    "        rf = RandomForestRegressor(n_estimators=n, max_depth=d, random_state=1)\n",
    "        rf.fit(X_train, y_train)\n",
    "\n",
    "        y_pred = rf.predict(X_val)\n",
    "        rms= np.sqrt(metrics.mean_squared_error(y_val, y_pred)).round(2)\n",
    "\n",
    "        scores.append((d, n,  rms))"
   ]
  },
  {
   "cell_type": "code",
   "execution_count": 166,
   "metadata": {},
   "outputs": [],
   "source": [
    "columns = ['max_depth', 'n_estimators', 'rms']\n",
    "df_scores = pd.DataFrame(scores, columns=columns)"
   ]
  },
  {
   "cell_type": "code",
   "execution_count": 169,
   "metadata": {},
   "outputs": [
    {
     "data": {
      "text/html": [
       "<div>\n",
       "<style scoped>\n",
       "    .dataframe tbody tr th:only-of-type {\n",
       "        vertical-align: middle;\n",
       "    }\n",
       "\n",
       "    .dataframe tbody tr th {\n",
       "        vertical-align: top;\n",
       "    }\n",
       "\n",
       "    .dataframe thead th {\n",
       "        text-align: right;\n",
       "    }\n",
       "</style>\n",
       "<table border=\"1\" class=\"dataframe\">\n",
       "  <thead>\n",
       "    <tr style=\"text-align: right;\">\n",
       "      <th></th>\n",
       "      <th>max_depth</th>\n",
       "      <th>n_estimators</th>\n",
       "      <th>rms</th>\n",
       "    </tr>\n",
       "  </thead>\n",
       "  <tbody>\n",
       "    <tr>\n",
       "      <th>75</th>\n",
       "      <td>25</td>\n",
       "      <td>160</td>\n",
       "      <td>0.23</td>\n",
       "    </tr>\n",
       "    <tr>\n",
       "      <th>76</th>\n",
       "      <td>25</td>\n",
       "      <td>170</td>\n",
       "      <td>0.23</td>\n",
       "    </tr>\n",
       "    <tr>\n",
       "      <th>77</th>\n",
       "      <td>25</td>\n",
       "      <td>180</td>\n",
       "      <td>0.23</td>\n",
       "    </tr>\n",
       "    <tr>\n",
       "      <th>78</th>\n",
       "      <td>25</td>\n",
       "      <td>190</td>\n",
       "      <td>0.23</td>\n",
       "    </tr>\n",
       "    <tr>\n",
       "      <th>79</th>\n",
       "      <td>25</td>\n",
       "      <td>200</td>\n",
       "      <td>0.23</td>\n",
       "    </tr>\n",
       "  </tbody>\n",
       "</table>\n",
       "</div>"
      ],
      "text/plain": [
       "    max_depth  n_estimators   rms\n",
       "75         25           160  0.23\n",
       "76         25           170  0.23\n",
       "77         25           180  0.23\n",
       "78         25           190  0.23\n",
       "79         25           200  0.23"
      ]
     },
     "execution_count": 169,
     "metadata": {},
     "output_type": "execute_result"
    }
   ],
   "source": [
    "df_scores.tail()"
   ]
  },
  {
   "cell_type": "code",
   "execution_count": 170,
   "metadata": {},
   "outputs": [
    {
     "data": {
      "text/plain": [
       "<matplotlib.legend.Legend at 0x276dd1296a0>"
      ]
     },
     "execution_count": 170,
     "metadata": {},
     "output_type": "execute_result"
    },
    {
     "data": {
      "image/png": "[encoded data removed]",
      "text/plain": [
       "<Figure size 432x288 with 1 Axes>"
      ]
     },
     "metadata": {
      "needs_background": "light"
     },
     "output_type": "display_data"
    }
   ],
   "source": [
    "for d in [10, 15, 20,25]:\n",
    "    df_subset = df_scores[df_scores.max_depth == d]\n",
    "    \n",
    "    plt.plot(df_subset.n_estimators, df_subset.rms,\n",
    "             label='max_depth=%d' % d)\n",
    "\n",
    "plt.legend()\n"
   ]
  },
  {
   "cell_type": "markdown",
   "metadata": {},
   "source": [
    "Answer: max_depth=25"
   ]
  },
  {
   "cell_type": "markdown",
   "metadata": {},
   "source": [
    "**Question 5**\n",
    "\n",
    "We can extract feature importance information from tree-based models.\n",
    "\n",
    "At each step of the decision tree learning algorith, it finds the best split. When doint it, we can calculate \"gain\" - the reduction in impurity before and after the split. This gain is quite useful in understanding what are the imporatant features for tree-based models.\n",
    "\n",
    "In Scikit-Learn, tree-based models contain this information in the feature_importances_ field.\n",
    "\n",
    "For this homework question, we'll find the most important feature:\n",
    "\n",
    "Train the model with these parametes:\n",
    "n_estimators=10,\n",
    "max_depth=20,\n",
    "random_state=1,\n",
    "n_jobs=-1 (optional)\n",
    "Get the feature importance information from this model\n",
    "What's the most important feature?\n",
    "\n",
    "total_rooms\n",
    "median_income\n",
    "total_bedrooms\n",
    "longitude\n"
   ]
  },
  {
   "cell_type": "code",
   "execution_count": 171,
   "metadata": {},
   "outputs": [
    {
     "data": {
      "text/plain": [
       "RandomForestRegressor(max_depth=20, n_estimators=10, random_state=1)"
      ]
     },
     "execution_count": 171,
     "metadata": {},
     "output_type": "execute_result"
    }
   ],
   "source": [
    "rf = RandomForestRegressor(n_estimators=10, max_depth=20, random_state=1)\n",
    "rf.fit(X_train, y_train)"
   ]
  },
  {
   "cell_type": "code",
   "execution_count": 172,
   "metadata": {},
   "outputs": [
    {
     "data": {
      "text/plain": [
       "array([1.69573183e-02, 3.30938997e-02, 1.01333971e-01, 9.62649876e-02,\n",
       "       3.62912907e-01, 3.00723750e-03, 3.10900842e-01, 3.56806263e-04,\n",
       "       4.48661972e-04, 4.22762446e-03, 3.09180197e-02, 1.90412562e-02,\n",
       "       2.05364687e-02])"
      ]
     },
     "execution_count": 172,
     "metadata": {},
     "output_type": "execute_result"
    }
   ],
   "source": [
    "rf.feature_importances_"
   ]
  },
  {
   "cell_type": "code",
   "execution_count": 175,
   "metadata": {},
   "outputs": [],
   "source": [
    "feature_importances = pd.DataFrame(rf.feature_importances_,columns=['importance']).sort_values('importance', ascending=False)"
   ]
  },
  {
   "cell_type": "code",
   "execution_count": 176,
   "metadata": {},
   "outputs": [
    {
     "data": {
      "text/html": [
       "<div>\n",
       "<style scoped>\n",
       "    .dataframe tbody tr th:only-of-type {\n",
       "        vertical-align: middle;\n",
       "    }\n",
       "\n",
       "    .dataframe tbody tr th {\n",
       "        vertical-align: top;\n",
       "    }\n",
       "\n",
       "    .dataframe thead th {\n",
       "        text-align: right;\n",
       "    }\n",
       "</style>\n",
       "<table border=\"1\" class=\"dataframe\">\n",
       "  <thead>\n",
       "    <tr style=\"text-align: right;\">\n",
       "      <th></th>\n",
       "      <th>importance</th>\n",
       "    </tr>\n",
       "  </thead>\n",
       "  <tbody>\n",
       "    <tr>\n",
       "      <th>4</th>\n",
       "      <td>0.362913</td>\n",
       "    </tr>\n",
       "    <tr>\n",
       "      <th>6</th>\n",
       "      <td>0.310901</td>\n",
       "    </tr>\n",
       "    <tr>\n",
       "      <th>2</th>\n",
       "      <td>0.101334</td>\n",
       "    </tr>\n",
       "    <tr>\n",
       "      <th>3</th>\n",
       "      <td>0.096265</td>\n",
       "    </tr>\n",
       "    <tr>\n",
       "      <th>1</th>\n",
       "      <td>0.033094</td>\n",
       "    </tr>\n",
       "    <tr>\n",
       "      <th>10</th>\n",
       "      <td>0.030918</td>\n",
       "    </tr>\n",
       "    <tr>\n",
       "      <th>12</th>\n",
       "      <td>0.020536</td>\n",
       "    </tr>\n",
       "    <tr>\n",
       "      <th>11</th>\n",
       "      <td>0.019041</td>\n",
       "    </tr>\n",
       "    <tr>\n",
       "      <th>0</th>\n",
       "      <td>0.016957</td>\n",
       "    </tr>\n",
       "    <tr>\n",
       "      <th>9</th>\n",
       "      <td>0.004228</td>\n",
       "    </tr>\n",
       "    <tr>\n",
       "      <th>5</th>\n",
       "      <td>0.003007</td>\n",
       "    </tr>\n",
       "    <tr>\n",
       "      <th>8</th>\n",
       "      <td>0.000449</td>\n",
       "    </tr>\n",
       "    <tr>\n",
       "      <th>7</th>\n",
       "      <td>0.000357</td>\n",
       "    </tr>\n",
       "  </tbody>\n",
       "</table>\n",
       "</div>"
      ],
      "text/plain": [
       "    importance\n",
       "4     0.362913\n",
       "6     0.310901\n",
       "2     0.101334\n",
       "3     0.096265\n",
       "1     0.033094\n",
       "10    0.030918\n",
       "12    0.020536\n",
       "11    0.019041\n",
       "0     0.016957\n",
       "9     0.004228\n",
       "5     0.003007\n",
       "8     0.000449\n",
       "7     0.000357"
      ]
     },
     "execution_count": 176,
     "metadata": {},
     "output_type": "execute_result"
    }
   ],
   "source": [
    "feature_importances"
   ]
  },
  {
   "cell_type": "markdown",
   "metadata": {},
   "source": [
    "**What's the most important feature?**\n",
    "\n",
    "total_rooms\n",
    "\n",
    "median_income\n",
    "\n",
    "total_bedrooms\n",
    "\n",
    "longitude\n"
   ]
  },
  {
   "cell_type": "markdown",
   "metadata": {},
   "source": [
    "Answer: total_rooms"
   ]
  },
  {
   "cell_type": "markdown",
   "metadata": {},
   "source": [
    "**Question 6**\n"
   ]
  },
  {
   "cell_type": "markdown",
   "metadata": {},
   "source": [
    "Now let's train an XGBoost model! For this question, we'll tune the eta parameter:\n",
    "\n",
    "Install XGBoost\n",
    "Create DMatrix for train and validation\n",
    "Create a watchlist\n",
    "Train a model with these parameters for 100 rounds:\n",
    "xgb_params = {\n",
    "    'eta': 0.3, \n",
    "    'max_depth': 6,\n",
    "    'min_child_weight': 1,\n",
    "    \n",
    "    'objective': 'reg:squarederror',\n",
    "    'nthread': 8,\n",
    "    \n",
    "    'seed': 1,\n",
    "    'verbosity': 1,\n",
    "}\n",
    "Now change eta first to 0.1 and then to 0.01\n",
    "\n",
    "Which eta leads to the best RMSE score on the validation dataset?\n",
    "\n",
    "0.3\n",
    "0.1\n",
    "Both gives same"
   ]
  },
  {
   "cell_type": "code",
   "execution_count": 177,
   "metadata": {},
   "outputs": [],
   "source": [
    "import xgboost as xgb\n"
   ]
  },
  {
   "cell_type": "code",
   "execution_count": 178,
   "metadata": {},
   "outputs": [],
   "source": [
    "features = dv.get_feature_names()\n",
    "dtrain = xgb.DMatrix(X_train, label=y_train)\n",
    "dval = xgb.DMatrix(X_val, label=y_val)"
   ]
  },
  {
   "cell_type": "code",
   "execution_count": 179,
   "metadata": {},
   "outputs": [
    {
     "data": {
      "text/plain": [
       "[(<xgboost.core.DMatrix at 0x276dca24bb0>, 'train'),\n",
       " (<xgboost.core.DMatrix at 0x276dc8e3220>, 'val')]"
      ]
     },
     "execution_count": 179,
     "metadata": {},
     "output_type": "execute_result"
    }
   ],
   "source": [
    "watchlist = [(dtrain, 'train'), (dval, 'val')]\n",
    "watchlist"
   ]
  },
  {
   "cell_type": "code",
   "execution_count": 180,
   "metadata": {},
   "outputs": [
    {
     "name": "stdout",
     "output_type": "stream",
     "text": [
      "[0]\ttrain-rmse:8.12733\tval-rmse:8.13245\n",
      "[1]\ttrain-rmse:5.69586\tval-rmse:5.70070\n",
      "[2]\ttrain-rmse:3.99540\tval-rmse:4.00041\n",
      "[3]\ttrain-rmse:2.80712\tval-rmse:2.81079\n",
      "[4]\ttrain-rmse:1.97834\tval-rmse:1.98175\n",
      "[5]\ttrain-rmse:1.40218\tval-rmse:1.40741\n",
      "[6]\ttrain-rmse:1.00099\tval-rmse:1.00700\n",
      "[7]\ttrain-rmse:0.72751\tval-rmse:0.73439\n",
      "[8]\ttrain-rmse:0.54190\tval-rmse:0.55047\n",
      "[9]\ttrain-rmse:0.42167\tval-rmse:0.43233\n",
      "[10]\ttrain-rmse:0.34481\tval-rmse:0.35782\n",
      "[11]\ttrain-rmse:0.29835\tval-rmse:0.31360\n",
      "[12]\ttrain-rmse:0.27095\tval-rmse:0.28865\n",
      "[13]\ttrain-rmse:0.25268\tval-rmse:0.27334\n",
      "[14]\ttrain-rmse:0.24295\tval-rmse:0.26605\n",
      "[15]\ttrain-rmse:0.23555\tval-rmse:0.26044\n",
      "[16]\ttrain-rmse:0.22630\tval-rmse:0.25229\n",
      "[17]\ttrain-rmse:0.22233\tval-rmse:0.24902\n",
      "[18]\ttrain-rmse:0.22029\tval-rmse:0.24826\n",
      "[19]\ttrain-rmse:0.21791\tval-rmse:0.24696\n",
      "[20]\ttrain-rmse:0.21580\tval-rmse:0.24624\n",
      "[21]\ttrain-rmse:0.21160\tval-rmse:0.24334\n",
      "[22]\ttrain-rmse:0.20975\tval-rmse:0.24245\n",
      "[23]\ttrain-rmse:0.20904\tval-rmse:0.24269\n",
      "[24]\ttrain-rmse:0.20703\tval-rmse:0.24252\n",
      "[25]\ttrain-rmse:0.20395\tval-rmse:0.24099\n",
      "[26]\ttrain-rmse:0.20188\tval-rmse:0.24019\n",
      "[27]\ttrain-rmse:0.20122\tval-rmse:0.24010\n",
      "[28]\ttrain-rmse:0.19810\tval-rmse:0.23843\n",
      "[29]\ttrain-rmse:0.19540\tval-rmse:0.23766\n",
      "[30]\ttrain-rmse:0.19440\tval-rmse:0.23741\n",
      "[31]\ttrain-rmse:0.19285\tval-rmse:0.23709\n",
      "[32]\ttrain-rmse:0.19126\tval-rmse:0.23686\n",
      "[33]\ttrain-rmse:0.18939\tval-rmse:0.23653\n",
      "[34]\ttrain-rmse:0.18742\tval-rmse:0.23605\n",
      "[35]\ttrain-rmse:0.18637\tval-rmse:0.23562\n",
      "[36]\ttrain-rmse:0.18486\tval-rmse:0.23539\n",
      "[37]\ttrain-rmse:0.18363\tval-rmse:0.23506\n",
      "[38]\ttrain-rmse:0.18274\tval-rmse:0.23495\n",
      "[39]\ttrain-rmse:0.18024\tval-rmse:0.23425\n",
      "[40]\ttrain-rmse:0.17983\tval-rmse:0.23419\n",
      "[41]\ttrain-rmse:0.17878\tval-rmse:0.23400\n",
      "[42]\ttrain-rmse:0.17782\tval-rmse:0.23384\n",
      "[43]\ttrain-rmse:0.17662\tval-rmse:0.23343\n",
      "[44]\ttrain-rmse:0.17568\tval-rmse:0.23317\n",
      "[45]\ttrain-rmse:0.17468\tval-rmse:0.23279\n",
      "[46]\ttrain-rmse:0.17304\tval-rmse:0.23205\n",
      "[47]\ttrain-rmse:0.17244\tval-rmse:0.23171\n",
      "[48]\ttrain-rmse:0.17139\tval-rmse:0.23142\n",
      "[49]\ttrain-rmse:0.17011\tval-rmse:0.23124\n",
      "[50]\ttrain-rmse:0.16934\tval-rmse:0.23097\n",
      "[51]\ttrain-rmse:0.16838\tval-rmse:0.23106\n",
      "[52]\ttrain-rmse:0.16788\tval-rmse:0.23074\n",
      "[53]\ttrain-rmse:0.16712\tval-rmse:0.23072\n",
      "[54]\ttrain-rmse:0.16616\tval-rmse:0.23030\n",
      "[55]\ttrain-rmse:0.16546\tval-rmse:0.23039\n",
      "[56]\ttrain-rmse:0.16433\tval-rmse:0.23006\n",
      "[57]\ttrain-rmse:0.16357\tval-rmse:0.23002\n",
      "[58]\ttrain-rmse:0.16309\tval-rmse:0.22987\n",
      "[59]\ttrain-rmse:0.16269\tval-rmse:0.22980\n",
      "[60]\ttrain-rmse:0.16177\tval-rmse:0.22950\n",
      "[61]\ttrain-rmse:0.16158\tval-rmse:0.22952\n",
      "[62]\ttrain-rmse:0.16081\tval-rmse:0.22929\n",
      "[63]\ttrain-rmse:0.15998\tval-rmse:0.22882\n",
      "[64]\ttrain-rmse:0.15854\tval-rmse:0.22878\n",
      "[65]\ttrain-rmse:0.15762\tval-rmse:0.22857\n",
      "[66]\ttrain-rmse:0.15666\tval-rmse:0.22862\n",
      "[67]\ttrain-rmse:0.15518\tval-rmse:0.22827\n",
      "[68]\ttrain-rmse:0.15446\tval-rmse:0.22825\n",
      "[69]\ttrain-rmse:0.15349\tval-rmse:0.22788\n",
      "[70]\ttrain-rmse:0.15323\tval-rmse:0.22787\n",
      "[71]\ttrain-rmse:0.15233\tval-rmse:0.22774\n",
      "[72]\ttrain-rmse:0.15212\tval-rmse:0.22773\n",
      "[73]\ttrain-rmse:0.15129\tval-rmse:0.22782\n",
      "[74]\ttrain-rmse:0.15075\tval-rmse:0.22771\n",
      "[75]\ttrain-rmse:0.15010\tval-rmse:0.22755\n",
      "[76]\ttrain-rmse:0.14872\tval-rmse:0.22705\n",
      "[77]\ttrain-rmse:0.14798\tval-rmse:0.22675\n",
      "[78]\ttrain-rmse:0.14728\tval-rmse:0.22669\n",
      "[79]\ttrain-rmse:0.14632\tval-rmse:0.22634\n",
      "[80]\ttrain-rmse:0.14564\tval-rmse:0.22611\n",
      "[81]\ttrain-rmse:0.14461\tval-rmse:0.22602\n",
      "[82]\ttrain-rmse:0.14386\tval-rmse:0.22595\n",
      "[83]\ttrain-rmse:0.14298\tval-rmse:0.22589\n",
      "[84]\ttrain-rmse:0.14244\tval-rmse:0.22598\n",
      "[85]\ttrain-rmse:0.14166\tval-rmse:0.22579\n",
      "[86]\ttrain-rmse:0.14128\tval-rmse:0.22582\n",
      "[87]\ttrain-rmse:0.14040\tval-rmse:0.22647\n",
      "[88]\ttrain-rmse:0.13997\tval-rmse:0.22641\n",
      "[89]\ttrain-rmse:0.13952\tval-rmse:0.22647\n",
      "[90]\ttrain-rmse:0.13892\tval-rmse:0.22628\n",
      "[91]\ttrain-rmse:0.13847\tval-rmse:0.22610\n",
      "[92]\ttrain-rmse:0.13794\tval-rmse:0.22619\n",
      "[93]\ttrain-rmse:0.13696\tval-rmse:0.22648\n",
      "[94]\ttrain-rmse:0.13626\tval-rmse:0.22643\n",
      "[95]\ttrain-rmse:0.13553\tval-rmse:0.22630\n",
      "[96]\ttrain-rmse:0.13458\tval-rmse:0.22620\n",
      "[97]\ttrain-rmse:0.13372\tval-rmse:0.22608\n",
      "[98]\ttrain-rmse:0.13344\tval-rmse:0.22611\n",
      "[99]\ttrain-rmse:0.13299\tval-rmse:0.22610\n"
     ]
    }
   ],
   "source": [
    "xgb_params = {\n",
    "    'eta': 0.3, \n",
    "    'max_depth': 6,\n",
    "    'min_child_weight': 1,\n",
    "    \n",
    "    'objective': 'reg:squarederror',\n",
    "    'nthread': 8,\n",
    "    \n",
    "    'seed': 1,\n",
    "    'verbosity': 1,\n",
    "}\n",
    "model = xgb.train(xgb_params, dtrain, num_boost_round=100,evals=watchlist)\n"
   ]
  },
  {
   "cell_type": "code",
   "execution_count": 181,
   "metadata": {},
   "outputs": [
    {
     "data": {
      "text/plain": [
       "0.23"
      ]
     },
     "execution_count": 181,
     "metadata": {},
     "output_type": "execute_result"
    }
   ],
   "source": [
    "y_pred = model.predict(dval)\n",
    "np.sqrt(metrics.mean_squared_error(y_val, y_pred)).round(2)\n"
   ]
  },
  {
   "cell_type": "code",
   "execution_count": null,
   "metadata": {},
   "outputs": [],
   "source": []
  },
  {
   "cell_type": "code",
   "execution_count": 182,
   "metadata": {},
   "outputs": [
    {
     "name": "stdout",
     "output_type": "stream",
     "text": [
      "[0]\ttrain-rmse:10.44372\tval-rmse:10.44938\n",
      "[1]\ttrain-rmse:9.40118\tval-rmse:9.40684\n",
      "[2]\ttrain-rmse:8.46290\tval-rmse:8.46831\n",
      "[3]\ttrain-rmse:7.61859\tval-rmse:7.62391\n",
      "[4]\ttrain-rmse:6.85878\tval-rmse:6.86368\n",
      "[5]\ttrain-rmse:6.17513\tval-rmse:6.17987\n",
      "[6]\ttrain-rmse:5.55994\tval-rmse:5.56437\n",
      "[7]\ttrain-rmse:5.00643\tval-rmse:5.01061\n",
      "[8]\ttrain-rmse:4.50846\tval-rmse:4.51264\n",
      "[9]\ttrain-rmse:4.06043\tval-rmse:4.06461\n",
      "[10]\ttrain-rmse:3.65741\tval-rmse:3.66135\n",
      "[11]\ttrain-rmse:3.29492\tval-rmse:3.29877\n",
      "[12]\ttrain-rmse:2.96894\tval-rmse:2.97284\n",
      "[13]\ttrain-rmse:2.67573\tval-rmse:2.67979\n",
      "[14]\ttrain-rmse:2.41195\tval-rmse:2.41587\n",
      "[15]\ttrain-rmse:2.17500\tval-rmse:2.17928\n",
      "[16]\ttrain-rmse:1.96214\tval-rmse:1.96662\n",
      "[17]\ttrain-rmse:1.77065\tval-rmse:1.77536\n",
      "[18]\ttrain-rmse:1.59880\tval-rmse:1.60396\n",
      "[19]\ttrain-rmse:1.44376\tval-rmse:1.44910\n",
      "[20]\ttrain-rmse:1.30499\tval-rmse:1.31054\n",
      "[21]\ttrain-rmse:1.18080\tval-rmse:1.18646\n",
      "[22]\ttrain-rmse:1.06879\tval-rmse:1.07469\n",
      "[23]\ttrain-rmse:0.96912\tval-rmse:0.97546\n",
      "[24]\ttrain-rmse:0.87914\tval-rmse:0.88576\n",
      "[25]\ttrain-rmse:0.79933\tval-rmse:0.80657\n",
      "[26]\ttrain-rmse:0.72790\tval-rmse:0.73566\n",
      "[27]\ttrain-rmse:0.66451\tval-rmse:0.67282\n",
      "[28]\ttrain-rmse:0.60723\tval-rmse:0.61618\n",
      "[29]\ttrain-rmse:0.55636\tval-rmse:0.56601\n",
      "[30]\ttrain-rmse:0.51144\tval-rmse:0.52189\n",
      "[31]\ttrain-rmse:0.47189\tval-rmse:0.48338\n",
      "[32]\ttrain-rmse:0.43732\tval-rmse:0.44960\n",
      "[33]\ttrain-rmse:0.40669\tval-rmse:0.41992\n",
      "[34]\ttrain-rmse:0.38017\tval-rmse:0.39439\n",
      "[35]\ttrain-rmse:0.35700\tval-rmse:0.37264\n",
      "[36]\ttrain-rmse:0.33733\tval-rmse:0.35398\n",
      "[37]\ttrain-rmse:0.31985\tval-rmse:0.33778\n",
      "[38]\ttrain-rmse:0.30449\tval-rmse:0.32340\n",
      "[39]\ttrain-rmse:0.29115\tval-rmse:0.31104\n",
      "[40]\ttrain-rmse:0.27984\tval-rmse:0.30053\n",
      "[41]\ttrain-rmse:0.27067\tval-rmse:0.29195\n",
      "[42]\ttrain-rmse:0.26257\tval-rmse:0.28468\n",
      "[43]\ttrain-rmse:0.25532\tval-rmse:0.27832\n",
      "[44]\ttrain-rmse:0.24897\tval-rmse:0.27269\n",
      "[45]\ttrain-rmse:0.24350\tval-rmse:0.26829\n",
      "[46]\ttrain-rmse:0.23912\tval-rmse:0.26437\n",
      "[47]\ttrain-rmse:0.23532\tval-rmse:0.26091\n",
      "[48]\ttrain-rmse:0.23170\tval-rmse:0.25803\n",
      "[49]\ttrain-rmse:0.22852\tval-rmse:0.25521\n",
      "[50]\ttrain-rmse:0.22614\tval-rmse:0.25334\n",
      "[51]\ttrain-rmse:0.22366\tval-rmse:0.25115\n",
      "[52]\ttrain-rmse:0.22167\tval-rmse:0.24976\n",
      "[53]\ttrain-rmse:0.22027\tval-rmse:0.24876\n",
      "[54]\ttrain-rmse:0.21843\tval-rmse:0.24751\n",
      "[55]\ttrain-rmse:0.21695\tval-rmse:0.24657\n",
      "[56]\ttrain-rmse:0.21568\tval-rmse:0.24560\n",
      "[57]\ttrain-rmse:0.21454\tval-rmse:0.24480\n",
      "[58]\ttrain-rmse:0.21336\tval-rmse:0.24411\n",
      "[59]\ttrain-rmse:0.21237\tval-rmse:0.24341\n",
      "[60]\ttrain-rmse:0.21035\tval-rmse:0.24189\n",
      "[61]\ttrain-rmse:0.20927\tval-rmse:0.24115\n",
      "[62]\ttrain-rmse:0.20870\tval-rmse:0.24089\n",
      "[63]\ttrain-rmse:0.20760\tval-rmse:0.24046\n",
      "[64]\ttrain-rmse:0.20723\tval-rmse:0.24036\n",
      "[65]\ttrain-rmse:0.20579\tval-rmse:0.23943\n",
      "[66]\ttrain-rmse:0.20510\tval-rmse:0.23908\n",
      "[67]\ttrain-rmse:0.20389\tval-rmse:0.23836\n",
      "[68]\ttrain-rmse:0.20302\tval-rmse:0.23798\n",
      "[69]\ttrain-rmse:0.20189\tval-rmse:0.23725\n",
      "[70]\ttrain-rmse:0.20116\tval-rmse:0.23684\n",
      "[71]\ttrain-rmse:0.20053\tval-rmse:0.23649\n",
      "[72]\ttrain-rmse:0.19928\tval-rmse:0.23587\n",
      "[73]\ttrain-rmse:0.19856\tval-rmse:0.23550\n",
      "[74]\ttrain-rmse:0.19760\tval-rmse:0.23523\n",
      "[75]\ttrain-rmse:0.19680\tval-rmse:0.23507\n",
      "[76]\ttrain-rmse:0.19636\tval-rmse:0.23491\n",
      "[77]\ttrain-rmse:0.19561\tval-rmse:0.23446\n",
      "[78]\ttrain-rmse:0.19482\tval-rmse:0.23427\n",
      "[79]\ttrain-rmse:0.19438\tval-rmse:0.23423\n",
      "[80]\ttrain-rmse:0.19384\tval-rmse:0.23398\n",
      "[81]\ttrain-rmse:0.19334\tval-rmse:0.23392\n",
      "[82]\ttrain-rmse:0.19266\tval-rmse:0.23364\n",
      "[83]\ttrain-rmse:0.19212\tval-rmse:0.23330\n",
      "[84]\ttrain-rmse:0.19129\tval-rmse:0.23289\n",
      "[85]\ttrain-rmse:0.19085\tval-rmse:0.23275\n",
      "[86]\ttrain-rmse:0.19008\tval-rmse:0.23266\n",
      "[87]\ttrain-rmse:0.18941\tval-rmse:0.23230\n",
      "[88]\ttrain-rmse:0.18903\tval-rmse:0.23228\n",
      "[89]\ttrain-rmse:0.18855\tval-rmse:0.23220\n",
      "[90]\ttrain-rmse:0.18794\tval-rmse:0.23206\n",
      "[91]\ttrain-rmse:0.18728\tval-rmse:0.23167\n",
      "[92]\ttrain-rmse:0.18691\tval-rmse:0.23162\n",
      "[93]\ttrain-rmse:0.18620\tval-rmse:0.23117\n",
      "[94]\ttrain-rmse:0.18586\tval-rmse:0.23104\n",
      "[95]\ttrain-rmse:0.18541\tval-rmse:0.23106\n",
      "[96]\ttrain-rmse:0.18470\tval-rmse:0.23089\n",
      "[97]\ttrain-rmse:0.18405\tval-rmse:0.23067\n",
      "[98]\ttrain-rmse:0.18385\tval-rmse:0.23057\n",
      "[99]\ttrain-rmse:0.18329\tval-rmse:0.23054\n"
     ]
    }
   ],
   "source": [
    "xgb_params = {\n",
    "    'eta': 0.1, \n",
    "    'max_depth': 6,\n",
    "    'min_child_weight': 1,\n",
    "    \n",
    "    'objective': 'reg:squarederror',\n",
    "    'nthread': 8,\n",
    "    \n",
    "    'seed': 1,\n",
    "    'verbosity': 1,\n",
    "}\n",
    "model = xgb.train(xgb_params, dtrain, num_boost_round=100,evals=watchlist)\n",
    "\n"
   ]
  },
  {
   "cell_type": "code",
   "execution_count": 183,
   "metadata": {},
   "outputs": [
    {
     "data": {
      "text/plain": [
       "0.23"
      ]
     },
     "execution_count": 183,
     "metadata": {},
     "output_type": "execute_result"
    }
   ],
   "source": [
    "y_pred = model.predict(dval)\n",
    "np.sqrt(metrics.mean_squared_error(y_val, y_pred)).round(2)"
   ]
  },
  {
   "cell_type": "code",
   "execution_count": 184,
   "metadata": {},
   "outputs": [
    {
     "name": "stdout",
     "output_type": "stream",
     "text": [
      "[0]\ttrain-rmse:11.48634\tval-rmse:11.49225\n",
      "[1]\ttrain-rmse:11.37165\tval-rmse:11.37753\n",
      "[2]\ttrain-rmse:11.25810\tval-rmse:11.26397\n",
      "[3]\ttrain-rmse:11.14569\tval-rmse:11.15153\n",
      "[4]\ttrain-rmse:11.03441\tval-rmse:11.04022\n",
      "[5]\ttrain-rmse:10.92424\tval-rmse:10.93003\n",
      "[6]\ttrain-rmse:10.81516\tval-rmse:10.82094\n",
      "[7]\ttrain-rmse:10.70718\tval-rmse:10.71290\n",
      "[8]\ttrain-rmse:10.60029\tval-rmse:10.60598\n",
      "[9]\ttrain-rmse:10.49446\tval-rmse:10.50009\n",
      "[10]\ttrain-rmse:10.38969\tval-rmse:10.39532\n",
      "[11]\ttrain-rmse:10.28597\tval-rmse:10.29160\n",
      "[12]\ttrain-rmse:10.18328\tval-rmse:10.18889\n",
      "[13]\ttrain-rmse:10.08163\tval-rmse:10.08723\n",
      "[14]\ttrain-rmse:9.98099\tval-rmse:9.98657\n",
      "[15]\ttrain-rmse:9.88136\tval-rmse:9.88695\n",
      "[16]\ttrain-rmse:9.78273\tval-rmse:9.78832\n",
      "[17]\ttrain-rmse:9.68508\tval-rmse:9.69063\n",
      "[18]\ttrain-rmse:9.58841\tval-rmse:9.59394\n",
      "[19]\ttrain-rmse:9.49270\tval-rmse:9.49823\n",
      "[20]\ttrain-rmse:9.39796\tval-rmse:9.40346\n",
      "[21]\ttrain-rmse:9.30416\tval-rmse:9.30966\n",
      "[22]\ttrain-rmse:9.21131\tval-rmse:9.21680\n",
      "[23]\ttrain-rmse:9.11938\tval-rmse:9.12485\n",
      "[24]\ttrain-rmse:9.02836\tval-rmse:9.03382\n",
      "[25]\ttrain-rmse:8.93827\tval-rmse:8.94370\n",
      "[26]\ttrain-rmse:8.84906\tval-rmse:8.85448\n",
      "[27]\ttrain-rmse:8.76076\tval-rmse:8.76616\n",
      "[28]\ttrain-rmse:8.67333\tval-rmse:8.67871\n",
      "[29]\ttrain-rmse:8.58678\tval-rmse:8.59214\n",
      "[30]\ttrain-rmse:8.50110\tval-rmse:8.50645\n",
      "[31]\ttrain-rmse:8.41628\tval-rmse:8.42160\n",
      "[32]\ttrain-rmse:8.33230\tval-rmse:8.33760\n",
      "[33]\ttrain-rmse:8.24917\tval-rmse:8.25445\n",
      "[34]\ttrain-rmse:8.16687\tval-rmse:8.17212\n",
      "[35]\ttrain-rmse:8.08539\tval-rmse:8.09064\n",
      "[36]\ttrain-rmse:8.00473\tval-rmse:8.00996\n",
      "[37]\ttrain-rmse:7.92488\tval-rmse:7.93008\n",
      "[38]\ttrain-rmse:7.84582\tval-rmse:7.85101\n",
      "[39]\ttrain-rmse:7.76756\tval-rmse:7.77273\n",
      "[40]\ttrain-rmse:7.69008\tval-rmse:7.69524\n",
      "[41]\ttrain-rmse:7.61338\tval-rmse:7.61852\n",
      "[42]\ttrain-rmse:7.53744\tval-rmse:7.54256\n",
      "[43]\ttrain-rmse:7.46227\tval-rmse:7.46738\n",
      "[44]\ttrain-rmse:7.38785\tval-rmse:7.39293\n",
      "[45]\ttrain-rmse:7.31418\tval-rmse:7.31924\n",
      "[46]\ttrain-rmse:7.24124\tval-rmse:7.24628\n",
      "[47]\ttrain-rmse:7.16903\tval-rmse:7.17406\n",
      "[48]\ttrain-rmse:7.09755\tval-rmse:7.10257\n",
      "[49]\ttrain-rmse:7.02678\tval-rmse:7.03178\n",
      "[50]\ttrain-rmse:6.95672\tval-rmse:6.96171\n",
      "[51]\ttrain-rmse:6.88736\tval-rmse:6.89235\n",
      "[52]\ttrain-rmse:6.81870\tval-rmse:6.82366\n",
      "[53]\ttrain-rmse:6.75073\tval-rmse:6.75567\n",
      "[54]\ttrain-rmse:6.68343\tval-rmse:6.68837\n",
      "[55]\ttrain-rmse:6.61681\tval-rmse:6.62173\n",
      "[56]\ttrain-rmse:6.55086\tval-rmse:6.55575\n",
      "[57]\ttrain-rmse:6.48557\tval-rmse:6.49045\n",
      "[58]\ttrain-rmse:6.42093\tval-rmse:6.42579\n",
      "[59]\ttrain-rmse:6.35695\tval-rmse:6.36178\n",
      "[60]\ttrain-rmse:6.29360\tval-rmse:6.29841\n",
      "[61]\ttrain-rmse:6.23088\tval-rmse:6.23567\n",
      "[62]\ttrain-rmse:6.16880\tval-rmse:6.17357\n",
      "[63]\ttrain-rmse:6.10734\tval-rmse:6.11209\n",
      "[64]\ttrain-rmse:6.04649\tval-rmse:6.05120\n",
      "[65]\ttrain-rmse:5.98625\tval-rmse:5.99094\n",
      "[66]\ttrain-rmse:5.92662\tval-rmse:5.93127\n",
      "[67]\ttrain-rmse:5.86758\tval-rmse:5.87221\n",
      "[68]\ttrain-rmse:5.80914\tval-rmse:5.81373\n",
      "[69]\ttrain-rmse:5.75128\tval-rmse:5.75585\n",
      "[70]\ttrain-rmse:5.69400\tval-rmse:5.69854\n",
      "[71]\ttrain-rmse:5.63730\tval-rmse:5.64181\n",
      "[72]\ttrain-rmse:5.58116\tval-rmse:5.58565\n",
      "[73]\ttrain-rmse:5.52559\tval-rmse:5.53006\n",
      "[74]\ttrain-rmse:5.47057\tval-rmse:5.47502\n",
      "[75]\ttrain-rmse:5.41611\tval-rmse:5.42053\n",
      "[76]\ttrain-rmse:5.36219\tval-rmse:5.36659\n",
      "[77]\ttrain-rmse:5.30881\tval-rmse:5.31319\n",
      "[78]\ttrain-rmse:5.25597\tval-rmse:5.26034\n",
      "[79]\ttrain-rmse:5.20366\tval-rmse:5.20802\n",
      "[80]\ttrain-rmse:5.15187\tval-rmse:5.15621\n",
      "[81]\ttrain-rmse:5.10060\tval-rmse:5.10493\n",
      "[82]\ttrain-rmse:5.04985\tval-rmse:5.05416\n",
      "[83]\ttrain-rmse:4.99960\tval-rmse:5.00389\n",
      "[84]\ttrain-rmse:4.94986\tval-rmse:4.95414\n",
      "[85]\ttrain-rmse:4.90062\tval-rmse:4.90486\n",
      "[86]\ttrain-rmse:4.85187\tval-rmse:4.85610\n",
      "[87]\ttrain-rmse:4.80361\tval-rmse:4.80783\n",
      "[88]\ttrain-rmse:4.75583\tval-rmse:4.76003\n",
      "[89]\ttrain-rmse:4.70854\tval-rmse:4.71272\n",
      "[90]\ttrain-rmse:4.66171\tval-rmse:4.66589\n",
      "[91]\ttrain-rmse:4.61536\tval-rmse:4.61953\n",
      "[92]\ttrain-rmse:4.56948\tval-rmse:4.57363\n",
      "[93]\ttrain-rmse:4.52405\tval-rmse:4.52820\n",
      "[94]\ttrain-rmse:4.47908\tval-rmse:4.48321\n",
      "[95]\ttrain-rmse:4.43456\tval-rmse:4.43868\n",
      "[96]\ttrain-rmse:4.39049\tval-rmse:4.39459\n",
      "[97]\ttrain-rmse:4.34686\tval-rmse:4.35096\n",
      "[98]\ttrain-rmse:4.30367\tval-rmse:4.30774\n",
      "[99]\ttrain-rmse:4.26092\tval-rmse:4.26496\n"
     ]
    },
    {
     "data": {
      "text/plain": [
       "4.26"
      ]
     },
     "execution_count": 184,
     "metadata": {},
     "output_type": "execute_result"
    }
   ],
   "source": [
    "xgb_params = {\n",
    "    'eta': 0.01, \n",
    "    'max_depth': 6,\n",
    "    'min_child_weight': 1,\n",
    "    \n",
    "    'objective': 'reg:squarederror',\n",
    "    'nthread': 8,\n",
    "    \n",
    "    'seed': 1,\n",
    "    'verbosity': 1,\n",
    "}\n",
    "model = xgb.train(xgb_params, dtrain, num_boost_round=100,evals=watchlist)\n",
    "y_pred = model.predict(dval)\n",
    "np.sqrt(metrics.mean_squared_error(y_val, y_pred)).round(2)\n"
   ]
  },
  {
   "cell_type": "code",
   "execution_count": null,
   "metadata": {},
   "outputs": [],
   "source": []
  }
 ],
 "metadata": {
  "kernelspec": {
   "display_name": "Python 3",
   "language": "python",
   "name": "python3"
  },
  "language_info": {
   "codemirror_mode": {
    "name": "ipython",
    "version": 3
   },
   "file_extension": ".py",
   "mimetype": "text/x-python",
   "name": "python",
   "nbconvert_exporter": "python",
   "pygments_lexer": "ipython3",
   "version": "3.8.5"
  }
 },
 "nbformat": 4,
 "nbformat_minor": 4
}
